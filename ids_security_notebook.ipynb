{
  "cells": [
    {
      "cell_type": "markdown",
      "metadata": {
        "id": "3SU7EjwXPr1u"
      },
      "source": [
        "# **Intrusion Detection System using CNN & SVM**"
      ]
    },
    {
      "cell_type": "markdown",
      "metadata": {
        "id": "QBatE5PqPzUB"
      },
      "source": [
        "Along the course of this notebook, we will try to develop 2 capable models using the Convolutional Neural Network (CNN) & Support Vector Machine (SVM) algorithms that are capable of distinguishing between benign packets and attacks."
      ]
    },
    {
      "cell_type": "markdown",
      "metadata": {
        "id": "0h4akr9tQjud"
      },
      "source": [
        "## **Import libraries and datasets**\n",
        "We used a concatenation of 2 datasets, one dataset with 2 classes *benign* and *DDoS*, and another dataset with 2 classes *benign* and *PortScan* to have a total of 3 classes."
      ]
    },
    {
      "cell_type": "code",
      "execution_count": 1,
      "metadata": {
        "colab": {
          "base_uri": "https://localhost:8080/",
          "height": 390
        },
        "execution": {
          "iopub.execute_input": "2023-09-29T14:28:05.896718Z",
          "iopub.status.busy": "2023-09-29T14:28:05.896383Z",
          "iopub.status.idle": "2023-09-29T14:28:21.694967Z",
          "shell.execute_reply": "2023-09-29T14:28:21.693601Z",
          "shell.execute_reply.started": "2023-09-29T14:28:05.896697Z"
        },
        "id": "iY2iehKudWgV",
        "outputId": "14c50c75-0cfb-467b-b160-797c1f645bcc",
        "trusted": true
      },
      "outputs": [],
      "source": [
        "import numpy as np\n",
        "import pandas as pd\n",
        "from sklearn.preprocessing import LabelEncoder\n",
        "from sklearn.model_selection import train_test_split\n",
        "from tensorflow.keras.models import Sequential\n",
        "from tensorflow.keras.layers import BatchNormalization, Conv2D, Flatten, Dense\n",
        "\n",
        "# Load the dataset\n",
        "df1 = pd.read_csv(\"Friday-WorkingHours-Afternoon-DDos.pcap_ISCX.csv\")\n",
        "df2 = pd.read_csv(\"Friday-WorkingHours-Afternoon-PortScan.pcap_ISCX.csv\")\n",
        "df = pd.concat([df1, df2], axis=0)"
      ]
    },
    {
      "cell_type": "markdown",
      "metadata": {
        "id": "Fn4BYGLqRkkC"
      },
      "source": [
        "## **Data Understanding**"
      ]
    },
    {
      "cell_type": "code",
      "execution_count": 2,
      "metadata": {
        "execution": {
          "iopub.execute_input": "2023-09-29T14:28:21.697070Z",
          "iopub.status.busy": "2023-09-29T14:28:21.696568Z",
          "iopub.status.idle": "2023-09-29T14:28:21.728929Z",
          "shell.execute_reply": "2023-09-29T14:28:21.727923Z",
          "shell.execute_reply.started": "2023-09-29T14:28:21.697040Z"
        },
        "id": "rrMXDs0ndWgZ",
        "trusted": true
      },
      "outputs": [
        {
          "data": {
            "text/html": [
              "<div>\n",
              "<style scoped>\n",
              "    .dataframe tbody tr th:only-of-type {\n",
              "        vertical-align: middle;\n",
              "    }\n",
              "\n",
              "    .dataframe tbody tr th {\n",
              "        vertical-align: top;\n",
              "    }\n",
              "\n",
              "    .dataframe thead th {\n",
              "        text-align: right;\n",
              "    }\n",
              "</style>\n",
              "<table border=\"1\" class=\"dataframe\">\n",
              "  <thead>\n",
              "    <tr style=\"text-align: right;\">\n",
              "      <th></th>\n",
              "      <th>Destination Port</th>\n",
              "      <th>Flow Duration</th>\n",
              "      <th>Total Fwd Packets</th>\n",
              "      <th>Total Backward Packets</th>\n",
              "      <th>Total Length of Fwd Packets</th>\n",
              "      <th>Total Length of Bwd Packets</th>\n",
              "      <th>Fwd Packet Length Max</th>\n",
              "      <th>Fwd Packet Length Min</th>\n",
              "      <th>Fwd Packet Length Mean</th>\n",
              "      <th>Fwd Packet Length Std</th>\n",
              "      <th>...</th>\n",
              "      <th>min_seg_size_forward</th>\n",
              "      <th>Active Mean</th>\n",
              "      <th>Active Std</th>\n",
              "      <th>Active Max</th>\n",
              "      <th>Active Min</th>\n",
              "      <th>Idle Mean</th>\n",
              "      <th>Idle Std</th>\n",
              "      <th>Idle Max</th>\n",
              "      <th>Idle Min</th>\n",
              "      <th>Label</th>\n",
              "    </tr>\n",
              "  </thead>\n",
              "  <tbody>\n",
              "    <tr>\n",
              "      <th>0</th>\n",
              "      <td>54865</td>\n",
              "      <td>3</td>\n",
              "      <td>2</td>\n",
              "      <td>0</td>\n",
              "      <td>12</td>\n",
              "      <td>0</td>\n",
              "      <td>6</td>\n",
              "      <td>6</td>\n",
              "      <td>6.0</td>\n",
              "      <td>0.0</td>\n",
              "      <td>...</td>\n",
              "      <td>20</td>\n",
              "      <td>0.0</td>\n",
              "      <td>0.0</td>\n",
              "      <td>0</td>\n",
              "      <td>0</td>\n",
              "      <td>0.0</td>\n",
              "      <td>0.0</td>\n",
              "      <td>0</td>\n",
              "      <td>0</td>\n",
              "      <td>BENIGN</td>\n",
              "    </tr>\n",
              "    <tr>\n",
              "      <th>1</th>\n",
              "      <td>55054</td>\n",
              "      <td>109</td>\n",
              "      <td>1</td>\n",
              "      <td>1</td>\n",
              "      <td>6</td>\n",
              "      <td>6</td>\n",
              "      <td>6</td>\n",
              "      <td>6</td>\n",
              "      <td>6.0</td>\n",
              "      <td>0.0</td>\n",
              "      <td>...</td>\n",
              "      <td>20</td>\n",
              "      <td>0.0</td>\n",
              "      <td>0.0</td>\n",
              "      <td>0</td>\n",
              "      <td>0</td>\n",
              "      <td>0.0</td>\n",
              "      <td>0.0</td>\n",
              "      <td>0</td>\n",
              "      <td>0</td>\n",
              "      <td>BENIGN</td>\n",
              "    </tr>\n",
              "    <tr>\n",
              "      <th>2</th>\n",
              "      <td>55055</td>\n",
              "      <td>52</td>\n",
              "      <td>1</td>\n",
              "      <td>1</td>\n",
              "      <td>6</td>\n",
              "      <td>6</td>\n",
              "      <td>6</td>\n",
              "      <td>6</td>\n",
              "      <td>6.0</td>\n",
              "      <td>0.0</td>\n",
              "      <td>...</td>\n",
              "      <td>20</td>\n",
              "      <td>0.0</td>\n",
              "      <td>0.0</td>\n",
              "      <td>0</td>\n",
              "      <td>0</td>\n",
              "      <td>0.0</td>\n",
              "      <td>0.0</td>\n",
              "      <td>0</td>\n",
              "      <td>0</td>\n",
              "      <td>BENIGN</td>\n",
              "    </tr>\n",
              "    <tr>\n",
              "      <th>3</th>\n",
              "      <td>46236</td>\n",
              "      <td>34</td>\n",
              "      <td>1</td>\n",
              "      <td>1</td>\n",
              "      <td>6</td>\n",
              "      <td>6</td>\n",
              "      <td>6</td>\n",
              "      <td>6</td>\n",
              "      <td>6.0</td>\n",
              "      <td>0.0</td>\n",
              "      <td>...</td>\n",
              "      <td>20</td>\n",
              "      <td>0.0</td>\n",
              "      <td>0.0</td>\n",
              "      <td>0</td>\n",
              "      <td>0</td>\n",
              "      <td>0.0</td>\n",
              "      <td>0.0</td>\n",
              "      <td>0</td>\n",
              "      <td>0</td>\n",
              "      <td>BENIGN</td>\n",
              "    </tr>\n",
              "    <tr>\n",
              "      <th>4</th>\n",
              "      <td>54863</td>\n",
              "      <td>3</td>\n",
              "      <td>2</td>\n",
              "      <td>0</td>\n",
              "      <td>12</td>\n",
              "      <td>0</td>\n",
              "      <td>6</td>\n",
              "      <td>6</td>\n",
              "      <td>6.0</td>\n",
              "      <td>0.0</td>\n",
              "      <td>...</td>\n",
              "      <td>20</td>\n",
              "      <td>0.0</td>\n",
              "      <td>0.0</td>\n",
              "      <td>0</td>\n",
              "      <td>0</td>\n",
              "      <td>0.0</td>\n",
              "      <td>0.0</td>\n",
              "      <td>0</td>\n",
              "      <td>0</td>\n",
              "      <td>BENIGN</td>\n",
              "    </tr>\n",
              "  </tbody>\n",
              "</table>\n",
              "<p>5 rows × 79 columns</p>\n",
              "</div>"
            ],
            "text/plain": [
              "    Destination Port   Flow Duration   Total Fwd Packets  \\\n",
              "0              54865               3                   2   \n",
              "1              55054             109                   1   \n",
              "2              55055              52                   1   \n",
              "3              46236              34                   1   \n",
              "4              54863               3                   2   \n",
              "\n",
              "    Total Backward Packets  Total Length of Fwd Packets  \\\n",
              "0                        0                           12   \n",
              "1                        1                            6   \n",
              "2                        1                            6   \n",
              "3                        1                            6   \n",
              "4                        0                           12   \n",
              "\n",
              "    Total Length of Bwd Packets   Fwd Packet Length Max  \\\n",
              "0                             0                       6   \n",
              "1                             6                       6   \n",
              "2                             6                       6   \n",
              "3                             6                       6   \n",
              "4                             0                       6   \n",
              "\n",
              "    Fwd Packet Length Min   Fwd Packet Length Mean   Fwd Packet Length Std  \\\n",
              "0                       6                      6.0                     0.0   \n",
              "1                       6                      6.0                     0.0   \n",
              "2                       6                      6.0                     0.0   \n",
              "3                       6                      6.0                     0.0   \n",
              "4                       6                      6.0                     0.0   \n",
              "\n",
              "   ...   min_seg_size_forward  Active Mean   Active Std   Active Max  \\\n",
              "0  ...                     20          0.0          0.0            0   \n",
              "1  ...                     20          0.0          0.0            0   \n",
              "2  ...                     20          0.0          0.0            0   \n",
              "3  ...                     20          0.0          0.0            0   \n",
              "4  ...                     20          0.0          0.0            0   \n",
              "\n",
              "    Active Min  Idle Mean   Idle Std   Idle Max   Idle Min   Label  \n",
              "0            0        0.0        0.0          0          0  BENIGN  \n",
              "1            0        0.0        0.0          0          0  BENIGN  \n",
              "2            0        0.0        0.0          0          0  BENIGN  \n",
              "3            0        0.0        0.0          0          0  BENIGN  \n",
              "4            0        0.0        0.0          0          0  BENIGN  \n",
              "\n",
              "[5 rows x 79 columns]"
            ]
          },
          "execution_count": 2,
          "metadata": {},
          "output_type": "execute_result"
        }
      ],
      "source": [
        "df.head()"
      ]
    },
    {
      "cell_type": "code",
      "execution_count": 3,
      "metadata": {
        "execution": {
          "iopub.execute_input": "2023-09-29T14:28:21.730803Z",
          "iopub.status.busy": "2023-09-29T14:28:21.729975Z",
          "iopub.status.idle": "2023-09-29T14:28:22.751737Z",
          "shell.execute_reply": "2023-09-29T14:28:22.750867Z",
          "shell.execute_reply.started": "2023-09-29T14:28:21.730770Z"
        },
        "id": "5EoLS99ddWga",
        "trusted": true
      },
      "outputs": [
        {
          "data": {
            "text/html": [
              "<div>\n",
              "<style scoped>\n",
              "    .dataframe tbody tr th:only-of-type {\n",
              "        vertical-align: middle;\n",
              "    }\n",
              "\n",
              "    .dataframe tbody tr th {\n",
              "        vertical-align: top;\n",
              "    }\n",
              "\n",
              "    .dataframe thead th {\n",
              "        text-align: right;\n",
              "    }\n",
              "</style>\n",
              "<table border=\"1\" class=\"dataframe\">\n",
              "  <thead>\n",
              "    <tr style=\"text-align: right;\">\n",
              "      <th></th>\n",
              "      <th>Destination Port</th>\n",
              "      <th>Flow Duration</th>\n",
              "      <th>Total Fwd Packets</th>\n",
              "      <th>Total Backward Packets</th>\n",
              "      <th>Total Length of Fwd Packets</th>\n",
              "      <th>Total Length of Bwd Packets</th>\n",
              "      <th>Fwd Packet Length Max</th>\n",
              "      <th>Fwd Packet Length Min</th>\n",
              "      <th>Fwd Packet Length Mean</th>\n",
              "      <th>Fwd Packet Length Std</th>\n",
              "      <th>...</th>\n",
              "      <th>act_data_pkt_fwd</th>\n",
              "      <th>min_seg_size_forward</th>\n",
              "      <th>Active Mean</th>\n",
              "      <th>Active Std</th>\n",
              "      <th>Active Max</th>\n",
              "      <th>Active Min</th>\n",
              "      <th>Idle Mean</th>\n",
              "      <th>Idle Std</th>\n",
              "      <th>Idle Max</th>\n",
              "      <th>Idle Min</th>\n",
              "    </tr>\n",
              "  </thead>\n",
              "  <tbody>\n",
              "    <tr>\n",
              "      <th>count</th>\n",
              "      <td>512212.000000</td>\n",
              "      <td>5.122120e+05</td>\n",
              "      <td>512212.000000</td>\n",
              "      <td>512212.000000</td>\n",
              "      <td>512212.000000</td>\n",
              "      <td>5.122120e+05</td>\n",
              "      <td>512212.000000</td>\n",
              "      <td>512212.000000</td>\n",
              "      <td>512212.000000</td>\n",
              "      <td>512212.000000</td>\n",
              "      <td>...</td>\n",
              "      <td>512212.000000</td>\n",
              "      <td>512212.000000</td>\n",
              "      <td>5.122120e+05</td>\n",
              "      <td>5.122120e+05</td>\n",
              "      <td>5.122120e+05</td>\n",
              "      <td>5.122120e+05</td>\n",
              "      <td>5.122120e+05</td>\n",
              "      <td>5.122120e+05</td>\n",
              "      <td>5.122120e+05</td>\n",
              "      <td>5.122120e+05</td>\n",
              "    </tr>\n",
              "    <tr>\n",
              "      <th>mean</th>\n",
              "      <td>8412.769090</td>\n",
              "      <td>1.016663e+07</td>\n",
              "      <td>4.091019</td>\n",
              "      <td>3.984264</td>\n",
              "      <td>544.584561</td>\n",
              "      <td>4.141029e+03</td>\n",
              "      <td>282.666408</td>\n",
              "      <td>18.078026</td>\n",
              "      <td>86.143519</td>\n",
              "      <td>108.468259</td>\n",
              "      <td>...</td>\n",
              "      <td>2.426234</td>\n",
              "      <td>25.729085</td>\n",
              "      <td>1.005245e+05</td>\n",
              "      <td>1.853578e+04</td>\n",
              "      <td>1.352519e+05</td>\n",
              "      <td>9.042571e+04</td>\n",
              "      <td>5.445735e+06</td>\n",
              "      <td>1.626106e+06</td>\n",
              "      <td>6.596952e+06</td>\n",
              "      <td>4.277190e+06</td>\n",
              "    </tr>\n",
              "    <tr>\n",
              "      <th>std</th>\n",
              "      <td>17447.963843</td>\n",
              "      <td>2.712714e+07</td>\n",
              "      <td>17.841275</td>\n",
              "      <td>25.620921</td>\n",
              "      <td>2592.815800</td>\n",
              "      <td>4.619398e+04</td>\n",
              "      <td>1281.867186</td>\n",
              "      <td>110.274825</td>\n",
              "      <td>347.365649</td>\n",
              "      <td>544.842538</td>\n",
              "      <td>...</td>\n",
              "      <td>13.823547</td>\n",
              "      <td>7.601682</td>\n",
              "      <td>6.384489e+05</td>\n",
              "      <td>2.408144e+05</td>\n",
              "      <td>8.141741e+05</td>\n",
              "      <td>6.138496e+05</td>\n",
              "      <td>1.647327e+07</td>\n",
              "      <td>8.698206e+06</td>\n",
              "      <td>1.986544e+07</td>\n",
              "      <td>1.496171e+07</td>\n",
              "    </tr>\n",
              "    <tr>\n",
              "      <th>min</th>\n",
              "      <td>0.000000</td>\n",
              "      <td>-1.300000e+01</td>\n",
              "      <td>1.000000</td>\n",
              "      <td>0.000000</td>\n",
              "      <td>0.000000</td>\n",
              "      <td>0.000000e+00</td>\n",
              "      <td>0.000000</td>\n",
              "      <td>0.000000</td>\n",
              "      <td>0.000000</td>\n",
              "      <td>0.000000</td>\n",
              "      <td>...</td>\n",
              "      <td>0.000000</td>\n",
              "      <td>0.000000</td>\n",
              "      <td>0.000000e+00</td>\n",
              "      <td>0.000000e+00</td>\n",
              "      <td>0.000000e+00</td>\n",
              "      <td>0.000000e+00</td>\n",
              "      <td>0.000000e+00</td>\n",
              "      <td>0.000000e+00</td>\n",
              "      <td>0.000000e+00</td>\n",
              "      <td>0.000000e+00</td>\n",
              "    </tr>\n",
              "    <tr>\n",
              "      <th>25%</th>\n",
              "      <td>80.000000</td>\n",
              "      <td>5.500000e+01</td>\n",
              "      <td>1.000000</td>\n",
              "      <td>1.000000</td>\n",
              "      <td>2.000000</td>\n",
              "      <td>6.000000e+00</td>\n",
              "      <td>2.000000</td>\n",
              "      <td>0.000000</td>\n",
              "      <td>2.000000</td>\n",
              "      <td>0.000000</td>\n",
              "      <td>...</td>\n",
              "      <td>0.000000</td>\n",
              "      <td>20.000000</td>\n",
              "      <td>0.000000e+00</td>\n",
              "      <td>0.000000e+00</td>\n",
              "      <td>0.000000e+00</td>\n",
              "      <td>0.000000e+00</td>\n",
              "      <td>0.000000e+00</td>\n",
              "      <td>0.000000e+00</td>\n",
              "      <td>0.000000e+00</td>\n",
              "      <td>0.000000e+00</td>\n",
              "    </tr>\n",
              "    <tr>\n",
              "      <th>50%</th>\n",
              "      <td>146.000000</td>\n",
              "      <td>3.027600e+04</td>\n",
              "      <td>2.000000</td>\n",
              "      <td>1.000000</td>\n",
              "      <td>26.000000</td>\n",
              "      <td>6.000000e+00</td>\n",
              "      <td>6.000000</td>\n",
              "      <td>2.000000</td>\n",
              "      <td>6.000000</td>\n",
              "      <td>0.000000</td>\n",
              "      <td>...</td>\n",
              "      <td>1.000000</td>\n",
              "      <td>20.000000</td>\n",
              "      <td>0.000000e+00</td>\n",
              "      <td>0.000000e+00</td>\n",
              "      <td>0.000000e+00</td>\n",
              "      <td>0.000000e+00</td>\n",
              "      <td>0.000000e+00</td>\n",
              "      <td>0.000000e+00</td>\n",
              "      <td>0.000000e+00</td>\n",
              "      <td>0.000000e+00</td>\n",
              "    </tr>\n",
              "    <tr>\n",
              "      <th>75%</th>\n",
              "      <td>5544.000000</td>\n",
              "      <td>2.033681e+06</td>\n",
              "      <td>4.000000</td>\n",
              "      <td>4.000000</td>\n",
              "      <td>62.000000</td>\n",
              "      <td>3.500000e+02</td>\n",
              "      <td>36.000000</td>\n",
              "      <td>6.000000</td>\n",
              "      <td>33.000000</td>\n",
              "      <td>6.094494</td>\n",
              "      <td>...</td>\n",
              "      <td>3.000000</td>\n",
              "      <td>32.000000</td>\n",
              "      <td>0.000000e+00</td>\n",
              "      <td>0.000000e+00</td>\n",
              "      <td>0.000000e+00</td>\n",
              "      <td>0.000000e+00</td>\n",
              "      <td>0.000000e+00</td>\n",
              "      <td>0.000000e+00</td>\n",
              "      <td>0.000000e+00</td>\n",
              "      <td>0.000000e+00</td>\n",
              "    </tr>\n",
              "    <tr>\n",
              "      <th>max</th>\n",
              "      <td>65532.000000</td>\n",
              "      <td>1.199999e+08</td>\n",
              "      <td>3119.000000</td>\n",
              "      <td>3635.000000</td>\n",
              "      <td>232349.000000</td>\n",
              "      <td>7.150819e+06</td>\n",
              "      <td>13929.000000</td>\n",
              "      <td>1472.000000</td>\n",
              "      <td>3867.000000</td>\n",
              "      <td>6692.644993</td>\n",
              "      <td>...</td>\n",
              "      <td>2056.000000</td>\n",
              "      <td>60.000000</td>\n",
              "      <td>1.100000e+08</td>\n",
              "      <td>7.050000e+07</td>\n",
              "      <td>1.100000e+08</td>\n",
              "      <td>1.100000e+08</td>\n",
              "      <td>1.200000e+08</td>\n",
              "      <td>7.050000e+07</td>\n",
              "      <td>1.200000e+08</td>\n",
              "      <td>1.200000e+08</td>\n",
              "    </tr>\n",
              "  </tbody>\n",
              "</table>\n",
              "<p>8 rows × 78 columns</p>\n",
              "</div>"
            ],
            "text/plain": [
              "        Destination Port   Flow Duration   Total Fwd Packets  \\\n",
              "count      512212.000000    5.122120e+05       512212.000000   \n",
              "mean         8412.769090    1.016663e+07            4.091019   \n",
              "std         17447.963843    2.712714e+07           17.841275   \n",
              "min             0.000000   -1.300000e+01            1.000000   \n",
              "25%            80.000000    5.500000e+01            1.000000   \n",
              "50%           146.000000    3.027600e+04            2.000000   \n",
              "75%          5544.000000    2.033681e+06            4.000000   \n",
              "max         65532.000000    1.199999e+08         3119.000000   \n",
              "\n",
              "        Total Backward Packets  Total Length of Fwd Packets  \\\n",
              "count            512212.000000                512212.000000   \n",
              "mean                  3.984264                   544.584561   \n",
              "std                  25.620921                  2592.815800   \n",
              "min                   0.000000                     0.000000   \n",
              "25%                   1.000000                     2.000000   \n",
              "50%                   1.000000                    26.000000   \n",
              "75%                   4.000000                    62.000000   \n",
              "max                3635.000000                232349.000000   \n",
              "\n",
              "        Total Length of Bwd Packets   Fwd Packet Length Max  \\\n",
              "count                  5.122120e+05           512212.000000   \n",
              "mean                   4.141029e+03              282.666408   \n",
              "std                    4.619398e+04             1281.867186   \n",
              "min                    0.000000e+00                0.000000   \n",
              "25%                    6.000000e+00                2.000000   \n",
              "50%                    6.000000e+00                6.000000   \n",
              "75%                    3.500000e+02               36.000000   \n",
              "max                    7.150819e+06            13929.000000   \n",
              "\n",
              "        Fwd Packet Length Min   Fwd Packet Length Mean  \\\n",
              "count           512212.000000            512212.000000   \n",
              "mean                18.078026                86.143519   \n",
              "std                110.274825               347.365649   \n",
              "min                  0.000000                 0.000000   \n",
              "25%                  0.000000                 2.000000   \n",
              "50%                  2.000000                 6.000000   \n",
              "75%                  6.000000                33.000000   \n",
              "max               1472.000000              3867.000000   \n",
              "\n",
              "        Fwd Packet Length Std  ...   act_data_pkt_fwd   min_seg_size_forward  \\\n",
              "count           512212.000000  ...      512212.000000          512212.000000   \n",
              "mean               108.468259  ...           2.426234              25.729085   \n",
              "std                544.842538  ...          13.823547               7.601682   \n",
              "min                  0.000000  ...           0.000000               0.000000   \n",
              "25%                  0.000000  ...           0.000000              20.000000   \n",
              "50%                  0.000000  ...           1.000000              20.000000   \n",
              "75%                  6.094494  ...           3.000000              32.000000   \n",
              "max               6692.644993  ...        2056.000000              60.000000   \n",
              "\n",
              "        Active Mean    Active Std    Active Max    Active Min     Idle Mean  \\\n",
              "count  5.122120e+05  5.122120e+05  5.122120e+05  5.122120e+05  5.122120e+05   \n",
              "mean   1.005245e+05  1.853578e+04  1.352519e+05  9.042571e+04  5.445735e+06   \n",
              "std    6.384489e+05  2.408144e+05  8.141741e+05  6.138496e+05  1.647327e+07   \n",
              "min    0.000000e+00  0.000000e+00  0.000000e+00  0.000000e+00  0.000000e+00   \n",
              "25%    0.000000e+00  0.000000e+00  0.000000e+00  0.000000e+00  0.000000e+00   \n",
              "50%    0.000000e+00  0.000000e+00  0.000000e+00  0.000000e+00  0.000000e+00   \n",
              "75%    0.000000e+00  0.000000e+00  0.000000e+00  0.000000e+00  0.000000e+00   \n",
              "max    1.100000e+08  7.050000e+07  1.100000e+08  1.100000e+08  1.200000e+08   \n",
              "\n",
              "           Idle Std      Idle Max      Idle Min  \n",
              "count  5.122120e+05  5.122120e+05  5.122120e+05  \n",
              "mean   1.626106e+06  6.596952e+06  4.277190e+06  \n",
              "std    8.698206e+06  1.986544e+07  1.496171e+07  \n",
              "min    0.000000e+00  0.000000e+00  0.000000e+00  \n",
              "25%    0.000000e+00  0.000000e+00  0.000000e+00  \n",
              "50%    0.000000e+00  0.000000e+00  0.000000e+00  \n",
              "75%    0.000000e+00  0.000000e+00  0.000000e+00  \n",
              "max    7.050000e+07  1.200000e+08  1.200000e+08  \n",
              "\n",
              "[8 rows x 78 columns]"
            ]
          },
          "execution_count": 3,
          "metadata": {},
          "output_type": "execute_result"
        }
      ],
      "source": [
        "df.describe()"
      ]
    },
    {
      "cell_type": "code",
      "execution_count": 4,
      "metadata": {
        "execution": {
          "iopub.execute_input": "2023-09-29T14:28:22.754337Z",
          "iopub.status.busy": "2023-09-29T14:28:22.753759Z",
          "iopub.status.idle": "2023-09-29T14:28:22.760395Z",
          "shell.execute_reply": "2023-09-29T14:28:22.759265Z",
          "shell.execute_reply.started": "2023-09-29T14:28:22.754319Z"
        },
        "id": "2dBEbDnYdWga",
        "trusted": true
      },
      "outputs": [
        {
          "data": {
            "text/plain": [
              "(512212, 79)"
            ]
          },
          "execution_count": 4,
          "metadata": {},
          "output_type": "execute_result"
        }
      ],
      "source": [
        "df.shape"
      ]
    },
    {
      "cell_type": "markdown",
      "metadata": {
        "id": "xRLAdIxVRqhj"
      },
      "source": [
        "## **Data Preparation**"
      ]
    },
    {
      "cell_type": "markdown",
      "metadata": {
        "id": "0p0N4dOSRJFn"
      },
      "source": [
        "### **Target Variable**\n",
        "The target variable in our dataset is the the *Label* column. It's in the form of string, so we must encode it to a number to feed to our ML models later."
      ]
    },
    {
      "cell_type": "code",
      "execution_count": 5,
      "metadata": {
        "execution": {
          "iopub.execute_input": "2023-09-29T14:28:22.761679Z",
          "iopub.status.busy": "2023-09-29T14:28:22.761475Z",
          "iopub.status.idle": "2023-09-29T14:28:22.808514Z",
          "shell.execute_reply": "2023-09-29T14:28:22.807148Z",
          "shell.execute_reply.started": "2023-09-29T14:28:22.761663Z"
        },
        "id": "Elc1eXfKdWgb",
        "trusted": true
      },
      "outputs": [
        {
          "data": {
            "text/plain": [
              "BENIGN      225255\n",
              "PortScan    158930\n",
              "DDoS        128027\n",
              "Name:  Label, dtype: int64"
            ]
          },
          "execution_count": 5,
          "metadata": {},
          "output_type": "execute_result"
        }
      ],
      "source": [
        "df[' Label'].value_counts()"
      ]
    },
    {
      "cell_type": "code",
      "execution_count": 6,
      "metadata": {
        "execution": {
          "iopub.execute_input": "2023-09-29T14:28:22.810220Z",
          "iopub.status.busy": "2023-09-29T14:28:22.809924Z",
          "iopub.status.idle": "2023-09-29T14:28:24.454194Z",
          "shell.execute_reply": "2023-09-29T14:28:24.452500Z",
          "shell.execute_reply.started": "2023-09-29T14:28:22.810202Z"
        },
        "id": "jIHR9L0vdWgb",
        "trusted": true
      },
      "outputs": [],
      "source": [
        "df = df.drop_duplicates()\n",
        "df = df.dropna()\n",
        "\n",
        "# Label Encoding the Target\n",
        "target = df[' Label']\n",
        "label_encoder = LabelEncoder()\n",
        "encoded_labels = label_encoder.fit_transform(target)\n",
        "df[' Label'] = encoded_labels\n",
        "\n",
        "df = df[~np.isinf(df).any(axis=1)]"
      ]
    },
    {
      "cell_type": "code",
      "execution_count": 7,
      "metadata": {
        "execution": {
          "iopub.execute_input": "2023-09-29T14:28:24.456535Z",
          "iopub.status.busy": "2023-09-29T14:28:24.456156Z",
          "iopub.status.idle": "2023-09-29T14:28:24.468427Z",
          "shell.execute_reply": "2023-09-29T14:28:24.467136Z",
          "shell.execute_reply.started": "2023-09-29T14:28:24.456502Z"
        },
        "id": "qBBY4u_WdWgb",
        "trusted": true
      },
      "outputs": [
        {
          "data": {
            "text/plain": [
              "0    216628\n",
              "1    128014\n",
              "2     90694\n",
              "Name:  Label, dtype: int64"
            ]
          },
          "execution_count": 7,
          "metadata": {},
          "output_type": "execute_result"
        }
      ],
      "source": [
        "df[' Label'].value_counts()"
      ]
    },
    {
      "cell_type": "code",
      "execution_count": 8,
      "metadata": {
        "execution": {
          "iopub.execute_input": "2023-09-29T14:28:24.470627Z",
          "iopub.status.busy": "2023-09-29T14:28:24.470327Z",
          "iopub.status.idle": "2023-09-29T14:28:24.527356Z",
          "shell.execute_reply": "2023-09-29T14:28:24.525838Z",
          "shell.execute_reply.started": "2023-09-29T14:28:24.470606Z"
        },
        "id": "YlfyuHfxdWgc",
        "trusted": true
      },
      "outputs": [],
      "source": [
        "# Features and target variable\n",
        "X = df.drop(' Label', axis=1)\n",
        "y = df[' Label']"
      ]
    },
    {
      "cell_type": "markdown",
      "metadata": {
        "id": "rD0KkVPtRxoM"
      },
      "source": [
        "### **Scaler**\n",
        "We scaled the data using the MinMaxScaler to get better accuracy once we obtain our models."
      ]
    },
    {
      "cell_type": "code",
      "execution_count": 9,
      "metadata": {
        "execution": {
          "iopub.execute_input": "2023-09-29T14:28:24.529579Z",
          "iopub.status.busy": "2023-09-29T14:28:24.529236Z",
          "iopub.status.idle": "2023-09-29T14:28:24.801892Z",
          "shell.execute_reply": "2023-09-29T14:28:24.800340Z",
          "shell.execute_reply.started": "2023-09-29T14:28:24.529559Z"
        },
        "id": "ahYm3giYdWgc",
        "trusted": true
      },
      "outputs": [],
      "source": [
        "from sklearn.preprocessing import MinMaxScaler\n",
        "\n",
        "scaler = MinMaxScaler()\n",
        "XMinMaxScaled = scaler.fit_transform(X)"
      ]
    },
    {
      "cell_type": "code",
      "execution_count": 10,
      "metadata": {
        "execution": {
          "iopub.execute_input": "2023-09-29T15:15:17.743522Z",
          "iopub.status.busy": "2023-09-29T15:15:17.743014Z",
          "iopub.status.idle": "2023-09-29T15:15:17.753319Z",
          "shell.execute_reply": "2023-09-29T15:15:17.752062Z",
          "shell.execute_reply.started": "2023-09-29T15:15:17.743488Z"
        },
        "id": "MkA14qbmdWgd",
        "trusted": true
      },
      "outputs": [
        {
          "data": {
            "text/plain": [
              "array([[8.37224562e-01, 1.33333376e-07, 3.20718409e-04, ...,\n",
              "        0.00000000e+00, 0.00000000e+00, 0.00000000e+00],\n",
              "       [8.40108649e-01, 1.01666699e-06, 0.00000000e+00, ...,\n",
              "        0.00000000e+00, 0.00000000e+00, 0.00000000e+00],\n",
              "       [8.40123909e-01, 5.41666838e-07, 0.00000000e+00, ...,\n",
              "        0.00000000e+00, 0.00000000e+00, 0.00000000e+00],\n",
              "       ...,\n",
              "       [6.76005616e-03, 1.34844209e-03, 2.21295702e-02, ...,\n",
              "        0.00000000e+00, 0.00000000e+00, 0.00000000e+00],\n",
              "       [6.76005616e-03, 1.19064204e-03, 1.57152021e-02, ...,\n",
              "        0.00000000e+00, 0.00000000e+00, 0.00000000e+00],\n",
              "       [6.76005616e-03, 1.55784216e-03, 1.44323284e-02, ...,\n",
              "        0.00000000e+00, 0.00000000e+00, 0.00000000e+00]])"
            ]
          },
          "execution_count": 10,
          "metadata": {},
          "output_type": "execute_result"
        }
      ],
      "source": [
        "XMinMaxScaled"
      ]
    },
    {
      "cell_type": "code",
      "execution_count": 11,
      "metadata": {
        "execution": {
          "iopub.execute_input": "2023-09-29T14:35:10.886823Z",
          "iopub.status.busy": "2023-09-29T14:35:10.886517Z",
          "iopub.status.idle": "2023-09-29T14:35:10.894449Z",
          "shell.execute_reply": "2023-09-29T14:35:10.892990Z",
          "shell.execute_reply.started": "2023-09-29T14:35:10.886801Z"
        },
        "id": "JN-5FlDjdWgd",
        "trusted": true
      },
      "outputs": [
        {
          "data": {
            "text/plain": [
              "(435336, 79)"
            ]
          },
          "execution_count": 11,
          "metadata": {},
          "output_type": "execute_result"
        }
      ],
      "source": [
        "df.shape"
      ]
    },
    {
      "cell_type": "markdown",
      "metadata": {
        "id": "W9s09hUkdWgd"
      },
      "source": [
        "## **Modeling**"
      ]
    },
    {
      "cell_type": "markdown",
      "metadata": {},
      "source": [
        "### **CNN Architecture**\n",
        "We will begin by modeling the CNN architecture. Since we're working with CNN instead of ANN, we have to reshape our input data to a 2D array to mimick an image for the convolutional layer. Then we feed it to the model to train."
      ]
    },
    {
      "cell_type": "code",
      "execution_count": 12,
      "metadata": {
        "execution": {
          "iopub.execute_input": "2023-09-29T14:35:18.065439Z",
          "iopub.status.busy": "2023-09-29T14:35:18.065092Z",
          "iopub.status.idle": "2023-09-29T14:40:46.250721Z",
          "shell.execute_reply": "2023-09-29T14:40:46.249788Z",
          "shell.execute_reply.started": "2023-09-29T14:35:18.065414Z"
        },
        "id": "MN7rSIFHdWge",
        "trusted": true
      },
      "outputs": [
        {
          "name": "stdout",
          "output_type": "stream",
          "text": [
            "Epoch 1/10\n",
            "10884/10884 [==============================] - 15s 1ms/step - loss: 0.0197 - accuracy: 0.9933\n",
            "Epoch 2/10\n",
            "10884/10884 [==============================] - 14s 1ms/step - loss: 0.0069 - accuracy: 0.9980\n",
            "Epoch 3/10\n",
            "10884/10884 [==============================] - 13s 1ms/step - loss: 0.0042 - accuracy: 0.9991\n",
            "Epoch 4/10\n",
            "10884/10884 [==============================] - 14s 1ms/step - loss: 0.0040 - accuracy: 0.9991\n",
            "Epoch 5/10\n",
            "10884/10884 [==============================] - 14s 1ms/step - loss: 0.0033 - accuracy: 0.9993\n",
            "Epoch 6/10\n",
            "10884/10884 [==============================] - 14s 1ms/step - loss: 0.0029 - accuracy: 0.9994\n",
            "Epoch 7/10\n",
            "10884/10884 [==============================] - 14s 1ms/step - loss: 0.0029 - accuracy: 0.9993\n",
            "Epoch 8/10\n",
            "10884/10884 [==============================] - 14s 1ms/step - loss: 0.0029 - accuracy: 0.9994\n",
            "Epoch 9/10\n",
            "10884/10884 [==============================] - 14s 1ms/step - loss: 0.0026 - accuracy: 0.9994\n",
            "Epoch 10/10\n",
            "10884/10884 [==============================] - 14s 1ms/step - loss: 0.0024 - accuracy: 0.9994\n",
            "2721/2721 [==============================] - 3s 811us/step - loss: 0.0024 - accuracy: 0.9995\n",
            "Accuracy: 99.95%\n"
          ]
        }
      ],
      "source": [
        "# Reshape the data for CNN\n",
        "XMinMaxScaled = XMinMaxScaled.reshape(-1, 2, 39, 1)  # Assuming 78 columns, change if necessary\n",
        "\n",
        "# Keras model\n",
        "model = Sequential()\n",
        "\n",
        "# Add 2D convolutional layers\n",
        "model.add(Conv2D(32, kernel_size=(2, 2), activation='relu', input_shape=(2, 39, 1)))\n",
        "model.add(BatchNormalization())\n",
        "model.add(Flatten())\n",
        "##### model.add(Dense(1, activation='sigmoid'))\n",
        "model.add(Dense(3, activation='softmax'))\n",
        "\n",
        "# Compile the model\n",
        "##### model.compile(optimizer='adam', loss='binary_crossentropy', metrics=['accuracy'])\n",
        "model.compile(optimizer='adam', loss='sparse_categorical_crossentropy', metrics=['accuracy'])\n",
        "\n",
        "# Split data into train and test sets\n",
        "X_train, X_test, y_train, y_test = train_test_split(XMinMaxScaled, y, test_size=0.2, random_state=42, stratify=y)\n",
        "\n",
        "# Train the model\n",
        "model.fit(X_train, y_train, epochs=10, batch_size=32)\n",
        "\n",
        "# Evaluate accuracy on test data\n",
        "accuracy = model.evaluate(X_test, y_test)[1]\n",
        "print(\"Accuracy: %.2f%%\" % (accuracy * 100))"
      ]
    },
    {
      "cell_type": "code",
      "execution_count": 13,
      "metadata": {
        "execution": {
          "iopub.execute_input": "2023-09-29T14:41:03.945353Z",
          "iopub.status.busy": "2023-09-29T14:41:03.944926Z",
          "iopub.status.idle": "2023-09-29T14:41:03.956626Z",
          "shell.execute_reply": "2023-09-29T14:41:03.954894Z",
          "shell.execute_reply.started": "2023-09-29T14:41:03.945329Z"
        },
        "id": "Ki25u1e6dWgf",
        "trusted": true
      },
      "outputs": [
        {
          "data": {
            "text/plain": [
              "0    43326\n",
              "1    25603\n",
              "2    18139\n",
              "Name:  Label, dtype: int64"
            ]
          },
          "execution_count": 13,
          "metadata": {},
          "output_type": "execute_result"
        }
      ],
      "source": [
        "y_test.value_counts()"
      ]
    },
    {
      "cell_type": "code",
      "execution_count": 14,
      "metadata": {
        "execution": {
          "iopub.execute_input": "2023-09-29T13:23:44.253106Z",
          "iopub.status.busy": "2023-09-29T13:23:44.252743Z",
          "iopub.status.idle": "2023-09-29T13:23:49.168135Z",
          "shell.execute_reply": "2023-09-29T13:23:49.167278Z",
          "shell.execute_reply.started": "2023-09-29T13:23:44.253061Z"
        },
        "id": "j8oUlS55dWgf",
        "trusted": true
      },
      "outputs": [
        {
          "name": "stdout",
          "output_type": "stream",
          "text": [
            "2721/2721 [==============================] - 2s 733us/step\n"
          ]
        }
      ],
      "source": [
        "# Predict using the CNN model\n",
        "predictions = model.predict(X_test)\n",
        "\n",
        "# Convert softmax probabilities to class labels\n",
        "y_pred = np.argmax(predictions, axis=1)"
      ]
    },
    {
      "cell_type": "code",
      "execution_count": 15,
      "metadata": {
        "execution": {
          "iopub.execute_input": "2023-09-29T13:26:46.573303Z",
          "iopub.status.busy": "2023-09-29T13:26:46.572908Z",
          "iopub.status.idle": "2023-09-29T13:26:46.580308Z",
          "shell.execute_reply": "2023-09-29T13:26:46.579184Z",
          "shell.execute_reply.started": "2023-09-29T13:26:46.573272Z"
        },
        "id": "6y1O_NuHdWgf",
        "trusted": true
      },
      "outputs": [
        {
          "data": {
            "text/plain": [
              "array([0, 0, 2, ..., 0, 0, 0], dtype=int64)"
            ]
          },
          "execution_count": 15,
          "metadata": {},
          "output_type": "execute_result"
        }
      ],
      "source": [
        "y_pred"
      ]
    },
    {
      "cell_type": "markdown",
      "metadata": {},
      "source": [
        "### **CNN Evaluation**"
      ]
    },
    {
      "cell_type": "code",
      "execution_count": 16,
      "metadata": {
        "execution": {
          "iopub.execute_input": "2023-09-29T13:26:50.507362Z",
          "iopub.status.busy": "2023-09-29T13:26:50.507008Z",
          "iopub.status.idle": "2023-09-29T13:26:50.527612Z",
          "shell.execute_reply": "2023-09-29T13:26:50.526890Z",
          "shell.execute_reply.started": "2023-09-29T13:26:50.507336Z"
        },
        "id": "ZkU1f--zdWgg",
        "trusted": true
      },
      "outputs": [
        {
          "name": "stdout",
          "output_type": "stream",
          "text": [
            "Confusion Matrix:  [[43310    11     5]\n",
            " [   17 25586     0]\n",
            " [   10     0 18129]]\n",
            "Classification Report               precision    recall  f1-score   support\n",
            "\n",
            "           0       1.00      1.00      1.00     43326\n",
            "           1       1.00      1.00      1.00     25603\n",
            "           2       1.00      1.00      1.00     18139\n",
            "\n",
            "    accuracy                           1.00     87068\n",
            "   macro avg       1.00      1.00      1.00     87068\n",
            "weighted avg       1.00      1.00      1.00     87068\n",
            "\n",
            "F1 :  0.9995144731455002\n",
            "MCC :  0.9992066355704332\n"
          ]
        }
      ],
      "source": [
        "from sklearn.metrics import confusion_matrix, classification_report, f1_score, matthews_corrcoef\n",
        "\n",
        "conf_matrix = confusion_matrix(y_test, y_pred)\n",
        "\n",
        "print(\"Confusion Matrix: \", conf_matrix)\n",
        "print(\"Classification Report\", classification_report(y_test, y_pred))\n",
        "print('F1 : ', f1_score(y_test, y_pred, average='macro'))\n",
        "print('MCC : ', matthews_corrcoef(y_test, y_pred))"
      ]
    },
    {
      "cell_type": "code",
      "execution_count": 17,
      "metadata": {
        "execution": {
          "iopub.execute_input": "2023-09-29T13:27:37.741233Z",
          "iopub.status.busy": "2023-09-29T13:27:37.740854Z",
          "iopub.status.idle": "2023-09-29T13:32:41.641048Z",
          "shell.execute_reply": "2023-09-29T13:32:41.639941Z",
          "shell.execute_reply.started": "2023-09-29T13:27:37.741203Z"
        },
        "id": "SUbkdl4VdWgg",
        "trusted": true
      },
      "outputs": [
        {
          "name": "stdout",
          "output_type": "stream",
          "text": [
            "Epoch 1/10\n",
            "10884/10884 [==============================] - 16s 1ms/step - loss: 0.0024 - accuracy: 0.9995 - val_loss: 0.0025 - val_accuracy: 0.9995\n",
            "Epoch 2/10\n",
            "10884/10884 [==============================] - 16s 1ms/step - loss: 0.0024 - accuracy: 0.9995 - val_loss: 0.0029 - val_accuracy: 0.9995\n",
            "Epoch 3/10\n",
            "10884/10884 [==============================] - 16s 1ms/step - loss: 0.0051 - accuracy: 0.9986 - val_loss: 0.0053 - val_accuracy: 0.9993\n",
            "Epoch 4/10\n",
            "10884/10884 [==============================] - 16s 1ms/step - loss: 0.0043 - accuracy: 0.9991 - val_loss: 0.0039 - val_accuracy: 0.9993\n",
            "Epoch 5/10\n",
            "10884/10884 [==============================] - 16s 1ms/step - loss: 0.0033 - accuracy: 0.9993 - val_loss: 0.0032 - val_accuracy: 0.9993\n",
            "Epoch 6/10\n",
            "10884/10884 [==============================] - 17s 2ms/step - loss: 0.0029 - accuracy: 0.9993 - val_loss: 0.0027 - val_accuracy: 0.9994\n",
            "Epoch 7/10\n",
            "10884/10884 [==============================] - 17s 2ms/step - loss: 0.0024 - accuracy: 0.9995 - val_loss: 0.0026 - val_accuracy: 0.9996\n",
            "Epoch 8/10\n",
            "10884/10884 [==============================] - 16s 1ms/step - loss: 0.0024 - accuracy: 0.9995 - val_loss: 0.0027 - val_accuracy: 0.9995\n",
            "Epoch 9/10\n",
            "10884/10884 [==============================] - 15s 1ms/step - loss: 0.0021 - accuracy: 0.9995 - val_loss: 0.0025 - val_accuracy: 0.9996\n",
            "Epoch 10/10\n",
            "10884/10884 [==============================] - 16s 1ms/step - loss: 0.0019 - accuracy: 0.9996 - val_loss: 0.0023 - val_accuracy: 0.9997\n"
          ]
        },
        {
          "data": {
            "image/png": "[encoded data removed]",
            "text/plain": [
              "<Figure size 1000x500 with 1 Axes>"
            ]
          },
          "metadata": {},
          "output_type": "display_data"
        }
      ],
      "source": [
        "import matplotlib.pyplot as plt\n",
        "\n",
        "# Train the model and keep the history object\n",
        "history = model.fit(X_train, y_train, epochs=10, batch_size=32, validation_data=(X_test, y_test))\n",
        "\n",
        "# Plot training & validation accuracy values\n",
        "plt.figure(figsize=(10, 5))\n",
        "plt.plot(history.history['accuracy'], label='Train Accuracy', color='blue')\n",
        "plt.plot(history.history['val_accuracy'], label='Validation Accuracy', color='green')\n",
        "plt.plot(history.history['loss'], label='Train Loss', color='red')\n",
        "plt.plot(history.history['val_loss'], label='Validation Loss', color='orange')\n",
        "plt.title('Model Accuracy and Loss')\n",
        "plt.xlabel('Epoch')\n",
        "plt.ylabel('Value')\n",
        "plt.legend()\n",
        "plt.show()"
      ]
    },
    {
      "cell_type": "markdown",
      "metadata": {},
      "source": [
        "### **CNN Deployment**"
      ]
    },
    {
      "cell_type": "code",
      "execution_count": 18,
      "metadata": {
        "id": "4u-m8tAtdWgg"
      },
      "outputs": [
        {
          "name": "stderr",
          "output_type": "stream",
          "text": [
            "WARNING:absl:Found untraced functions such as _jit_compiled_convolution_op, _update_step_xla while saving (showing 2 of 2). These functions will not be directly callable after loading.\n"
          ]
        },
        {
          "name": "stdout",
          "output_type": "stream",
          "text": [
            "INFO:tensorflow:Assets written to: C:\\Users\\Bilal\\AppData\\Local\\Temp\\tmph0wfyx1o\\assets\n"
          ]
        },
        {
          "name": "stderr",
          "output_type": "stream",
          "text": [
            "INFO:tensorflow:Assets written to: C:\\Users\\Bilal\\AppData\\Local\\Temp\\tmph0wfyx1o\\assets\n"
          ]
        }
      ],
      "source": [
        "from tensorflow import lite\n",
        "\n",
        "converter = lite.TFLiteConverter.from_keras_model(model)\n",
        "tflite_model = converter.convert()\n",
        "\n",
        "with open('cnn_model.tflite', 'wb') as f:\n",
        "    f.write(tflite_model)"
      ]
    },
    {
      "cell_type": "markdown",
      "metadata": {
        "id": "0QBtbrm0dWgg"
      },
      "source": [
        "### **SVM Architecture**\n",
        "After Using CNN to obtain a model to predict whether a request is an attack or not, We will try a different algorithm to see if it yields better/worse results"
      ]
    },
    {
      "cell_type": "code",
      "execution_count": 19,
      "metadata": {
        "id": "0szX7mIqdWgg"
      },
      "outputs": [],
      "source": [
        "import numpy as np\n",
        "import matplotlib.pyplot as plt\n",
        "from sklearn import datasets\n",
        "from sklearn.model_selection import train_test_split\n",
        "from sklearn.preprocessing import StandardScaler\n",
        "from sklearn.svm import SVC\n",
        "from sklearn.metrics import accuracy_score, classification_report, confusion_matrix"
      ]
    },
    {
      "cell_type": "markdown",
      "metadata": {
        "id": "5YUabjMDdWgh"
      },
      "source": [
        "We should normalize the data before training the model for optimal results, this scaler is different than the one we used for CNN."
      ]
    },
    {
      "cell_type": "code",
      "execution_count": 20,
      "metadata": {
        "id": "MWnHAmGbdWgh"
      },
      "outputs": [],
      "source": [
        "X_train, X_test, y_train, y_test = train_test_split(X, y, test_size=0.2, random_state=42, stratify=y)\n",
        "\n",
        "# Standardize the features (mean=0, variance=1)\n",
        "scaler = StandardScaler()\n",
        "X_train = scaler.fit_transform(X_train)\n",
        "X_test = scaler.transform(X_test)"
      ]
    },
    {
      "cell_type": "code",
      "execution_count": 21,
      "metadata": {
        "id": "WE75GUfudWgh"
      },
      "outputs": [
        {
          "data": {
            "text/html": [
              "<style>#sk-container-id-1 {color: black;background-color: white;}#sk-container-id-1 pre{padding: 0;}#sk-container-id-1 div.sk-toggleable {background-color: white;}#sk-container-id-1 label.sk-toggleable__label {cursor: pointer;display: block;width: 100%;margin-bottom: 0;padding: 0.3em;box-sizing: border-box;text-align: center;}#sk-container-id-1 label.sk-toggleable__label-arrow:before {content: \"▸\";float: left;margin-right: 0.25em;color: #696969;}#sk-container-id-1 label.sk-toggleable__label-arrow:hover:before {color: black;}#sk-container-id-1 div.sk-estimator:hover label.sk-toggleable__label-arrow:before {color: black;}#sk-container-id-1 div.sk-toggleable__content {max-height: 0;max-width: 0;overflow: hidden;text-align: left;background-color: #f0f8ff;}#sk-container-id-1 div.sk-toggleable__content pre {margin: 0.2em;color: black;border-radius: 0.25em;background-color: #f0f8ff;}#sk-container-id-1 input.sk-toggleable__control:checked~div.sk-toggleable__content {max-height: 200px;max-width: 100%;overflow: auto;}#sk-container-id-1 input.sk-toggleable__control:checked~label.sk-toggleable__label-arrow:before {content: \"▾\";}#sk-container-id-1 div.sk-estimator input.sk-toggleable__control:checked~label.sk-toggleable__label {background-color: #d4ebff;}#sk-container-id-1 div.sk-label input.sk-toggleable__control:checked~label.sk-toggleable__label {background-color: #d4ebff;}#sk-container-id-1 input.sk-hidden--visually {border: 0;clip: rect(1px 1px 1px 1px);clip: rect(1px, 1px, 1px, 1px);height: 1px;margin: -1px;overflow: hidden;padding: 0;position: absolute;width: 1px;}#sk-container-id-1 div.sk-estimator {font-family: monospace;background-color: #f0f8ff;border: 1px dotted black;border-radius: 0.25em;box-sizing: border-box;margin-bottom: 0.5em;}#sk-container-id-1 div.sk-estimator:hover {background-color: #d4ebff;}#sk-container-id-1 div.sk-parallel-item::after {content: \"\";width: 100%;border-bottom: 1px solid gray;flex-grow: 1;}#sk-container-id-1 div.sk-label:hover label.sk-toggleable__label {background-color: #d4ebff;}#sk-container-id-1 div.sk-serial::before {content: \"\";position: absolute;border-left: 1px solid gray;box-sizing: border-box;top: 0;bottom: 0;left: 50%;z-index: 0;}#sk-container-id-1 div.sk-serial {display: flex;flex-direction: column;align-items: center;background-color: white;padding-right: 0.2em;padding-left: 0.2em;position: relative;}#sk-container-id-1 div.sk-item {position: relative;z-index: 1;}#sk-container-id-1 div.sk-parallel {display: flex;align-items: stretch;justify-content: center;background-color: white;position: relative;}#sk-container-id-1 div.sk-item::before, #sk-container-id-1 div.sk-parallel-item::before {content: \"\";position: absolute;border-left: 1px solid gray;box-sizing: border-box;top: 0;bottom: 0;left: 50%;z-index: -1;}#sk-container-id-1 div.sk-parallel-item {display: flex;flex-direction: column;z-index: 1;position: relative;background-color: white;}#sk-container-id-1 div.sk-parallel-item:first-child::after {align-self: flex-end;width: 50%;}#sk-container-id-1 div.sk-parallel-item:last-child::after {align-self: flex-start;width: 50%;}#sk-container-id-1 div.sk-parallel-item:only-child::after {width: 0;}#sk-container-id-1 div.sk-dashed-wrapped {border: 1px dashed gray;margin: 0 0.4em 0.5em 0.4em;box-sizing: border-box;padding-bottom: 0.4em;background-color: white;}#sk-container-id-1 div.sk-label label {font-family: monospace;font-weight: bold;display: inline-block;line-height: 1.2em;}#sk-container-id-1 div.sk-label-container {text-align: center;}#sk-container-id-1 div.sk-container {/* jupyter's `normalize.less` sets `[hidden] { display: none; }` but bootstrap.min.css set `[hidden] { display: none !important; }` so we also need the `!important` here to be able to override the default hidden behavior on the sphinx rendered scikit-learn.org. See: https://github.com/scikit-learn/scikit-learn/issues/21755 */display: inline-block !important;position: relative;}#sk-container-id-1 div.sk-text-repr-fallback {display: none;}</style><div id=\"sk-container-id-1\" class=\"sk-top-container\"><div class=\"sk-text-repr-fallback\"><pre>SVC(kernel=&#x27;linear&#x27;, random_state=42)</pre><b>In a Jupyter environment, please rerun this cell to show the HTML representation or trust the notebook. <br />On GitHub, the HTML representation is unable to render, please try loading this page with nbviewer.org.</b></div><div class=\"sk-container\" hidden><div class=\"sk-item\"><div class=\"sk-estimator sk-toggleable\"><input class=\"sk-toggleable__control sk-hidden--visually\" id=\"sk-estimator-id-1\" type=\"checkbox\" checked><label for=\"sk-estimator-id-1\" class=\"sk-toggleable__label sk-toggleable__label-arrow\">SVC</label><div class=\"sk-toggleable__content\"><pre>SVC(kernel=&#x27;linear&#x27;, random_state=42)</pre></div></div></div></div></div>"
            ],
            "text/plain": [
              "SVC(kernel='linear', random_state=42)"
            ]
          },
          "execution_count": 21,
          "metadata": {},
          "output_type": "execute_result"
        }
      ],
      "source": [
        "# Create an SVM classifier\n",
        "svm_classifier = SVC(kernel='linear', C=1.0, random_state=42)\n",
        "\n",
        "# Train the classifier on the training data\n",
        "svm_classifier.fit(X_train, y_train)"
      ]
    },
    {
      "cell_type": "code",
      "execution_count": 22,
      "metadata": {
        "id": "M003y8HRdWgh"
      },
      "outputs": [],
      "source": [
        "y_pred = svm_classifier.predict(X_test)"
      ]
    },
    {
      "cell_type": "markdown",
      "metadata": {},
      "source": [
        "### **SVM Evaluation**"
      ]
    },
    {
      "cell_type": "code",
      "execution_count": 23,
      "metadata": {
        "id": "e4MMqkA-dWgh"
      },
      "outputs": [
        {
          "name": "stdout",
          "output_type": "stream",
          "text": [
            "Accuracy: 1.00\n",
            "              precision    recall  f1-score   support\n",
            "\n",
            "           0       1.00      1.00      1.00     43326\n",
            "           1       1.00      1.00      1.00     25603\n",
            "           2       1.00      1.00      1.00     18139\n",
            "\n",
            "    accuracy                           1.00     87068\n",
            "   macro avg       1.00      1.00      1.00     87068\n",
            "weighted avg       1.00      1.00      1.00     87068\n",
            "\n",
            "Confusion Matrix:\n",
            "[[43288    22    16]\n",
            " [   25 25578     0]\n",
            " [   24     1 18114]]\n"
          ]
        }
      ],
      "source": [
        "# Calculate accuracy\n",
        "accuracy = accuracy_score(y_test, y_pred)\n",
        "print(f'Accuracy: {accuracy:.2f}')\n",
        "\n",
        "# Generate a classification report\n",
        "print(classification_report(y_test, y_pred))\n",
        "\n",
        "# Create a confusion matrix\n",
        "conf_matrix = confusion_matrix(y_test, y_pred)\n",
        "print('Confusion Matrix:')\n",
        "print(conf_matrix)"
      ]
    },
    {
      "cell_type": "markdown",
      "metadata": {
        "id": "eEuhC4brdWgh"
      },
      "source": [
        "## **Future Works**\n",
        "To simulate a live intrusion detection system, we need constant new requests being sent to the server. We can replicate this behaviour by generating new data by adding some noise to the data we have, which allows it to be never seen before by the models we created. The server will generate a new row each get request and will predict whether the generated row represents an attack or not."
      ]
    },
    {
      "cell_type": "markdown",
      "metadata": {},
      "source": [
        "### **Challenge**\n",
        "Unfortunately, adding noise to this dataset doesn't work as well as in other cases. When adding the noise, the models heavily favor the attack class, which could be explained by abnormal data such as a floating number for a destination port. To generate new data, a different approach has to be taken and can be considered something to improve on for this project."
      ]
    },
    {
      "cell_type": "code",
      "execution_count": 24,
      "metadata": {
        "id": "vBsT2WAldWgi"
      },
      "outputs": [
        {
          "data": {
            "text/html": [
              "<div>\n",
              "<style scoped>\n",
              "    .dataframe tbody tr th:only-of-type {\n",
              "        vertical-align: middle;\n",
              "    }\n",
              "\n",
              "    .dataframe tbody tr th {\n",
              "        vertical-align: top;\n",
              "    }\n",
              "\n",
              "    .dataframe thead th {\n",
              "        text-align: right;\n",
              "    }\n",
              "</style>\n",
              "<table border=\"1\" class=\"dataframe\">\n",
              "  <thead>\n",
              "    <tr style=\"text-align: right;\">\n",
              "      <th></th>\n",
              "      <th>Destination Port</th>\n",
              "      <th>Flow Duration</th>\n",
              "      <th>Total Fwd Packets</th>\n",
              "      <th>Total Backward Packets</th>\n",
              "      <th>Total Length of Fwd Packets</th>\n",
              "      <th>Total Length of Bwd Packets</th>\n",
              "      <th>Fwd Packet Length Max</th>\n",
              "      <th>Fwd Packet Length Min</th>\n",
              "      <th>Fwd Packet Length Mean</th>\n",
              "      <th>Fwd Packet Length Std</th>\n",
              "      <th>...</th>\n",
              "      <th>min_seg_size_forward</th>\n",
              "      <th>Active Mean</th>\n",
              "      <th>Active Std</th>\n",
              "      <th>Active Max</th>\n",
              "      <th>Active Min</th>\n",
              "      <th>Idle Mean</th>\n",
              "      <th>Idle Std</th>\n",
              "      <th>Idle Max</th>\n",
              "      <th>Idle Min</th>\n",
              "      <th>Label</th>\n",
              "    </tr>\n",
              "  </thead>\n",
              "  <tbody>\n",
              "    <tr>\n",
              "      <th>0</th>\n",
              "      <td>54865</td>\n",
              "      <td>3</td>\n",
              "      <td>2</td>\n",
              "      <td>0</td>\n",
              "      <td>12</td>\n",
              "      <td>0</td>\n",
              "      <td>6</td>\n",
              "      <td>6</td>\n",
              "      <td>6.0</td>\n",
              "      <td>0.0</td>\n",
              "      <td>...</td>\n",
              "      <td>20</td>\n",
              "      <td>0.0</td>\n",
              "      <td>0.0</td>\n",
              "      <td>0</td>\n",
              "      <td>0</td>\n",
              "      <td>0.0</td>\n",
              "      <td>0.0</td>\n",
              "      <td>0</td>\n",
              "      <td>0</td>\n",
              "      <td>BENIGN</td>\n",
              "    </tr>\n",
              "    <tr>\n",
              "      <th>1</th>\n",
              "      <td>55054</td>\n",
              "      <td>109</td>\n",
              "      <td>1</td>\n",
              "      <td>1</td>\n",
              "      <td>6</td>\n",
              "      <td>6</td>\n",
              "      <td>6</td>\n",
              "      <td>6</td>\n",
              "      <td>6.0</td>\n",
              "      <td>0.0</td>\n",
              "      <td>...</td>\n",
              "      <td>20</td>\n",
              "      <td>0.0</td>\n",
              "      <td>0.0</td>\n",
              "      <td>0</td>\n",
              "      <td>0</td>\n",
              "      <td>0.0</td>\n",
              "      <td>0.0</td>\n",
              "      <td>0</td>\n",
              "      <td>0</td>\n",
              "      <td>BENIGN</td>\n",
              "    </tr>\n",
              "    <tr>\n",
              "      <th>2</th>\n",
              "      <td>55055</td>\n",
              "      <td>52</td>\n",
              "      <td>1</td>\n",
              "      <td>1</td>\n",
              "      <td>6</td>\n",
              "      <td>6</td>\n",
              "      <td>6</td>\n",
              "      <td>6</td>\n",
              "      <td>6.0</td>\n",
              "      <td>0.0</td>\n",
              "      <td>...</td>\n",
              "      <td>20</td>\n",
              "      <td>0.0</td>\n",
              "      <td>0.0</td>\n",
              "      <td>0</td>\n",
              "      <td>0</td>\n",
              "      <td>0.0</td>\n",
              "      <td>0.0</td>\n",
              "      <td>0</td>\n",
              "      <td>0</td>\n",
              "      <td>BENIGN</td>\n",
              "    </tr>\n",
              "    <tr>\n",
              "      <th>3</th>\n",
              "      <td>46236</td>\n",
              "      <td>34</td>\n",
              "      <td>1</td>\n",
              "      <td>1</td>\n",
              "      <td>6</td>\n",
              "      <td>6</td>\n",
              "      <td>6</td>\n",
              "      <td>6</td>\n",
              "      <td>6.0</td>\n",
              "      <td>0.0</td>\n",
              "      <td>...</td>\n",
              "      <td>20</td>\n",
              "      <td>0.0</td>\n",
              "      <td>0.0</td>\n",
              "      <td>0</td>\n",
              "      <td>0</td>\n",
              "      <td>0.0</td>\n",
              "      <td>0.0</td>\n",
              "      <td>0</td>\n",
              "      <td>0</td>\n",
              "      <td>BENIGN</td>\n",
              "    </tr>\n",
              "    <tr>\n",
              "      <th>4</th>\n",
              "      <td>54863</td>\n",
              "      <td>3</td>\n",
              "      <td>2</td>\n",
              "      <td>0</td>\n",
              "      <td>12</td>\n",
              "      <td>0</td>\n",
              "      <td>6</td>\n",
              "      <td>6</td>\n",
              "      <td>6.0</td>\n",
              "      <td>0.0</td>\n",
              "      <td>...</td>\n",
              "      <td>20</td>\n",
              "      <td>0.0</td>\n",
              "      <td>0.0</td>\n",
              "      <td>0</td>\n",
              "      <td>0</td>\n",
              "      <td>0.0</td>\n",
              "      <td>0.0</td>\n",
              "      <td>0</td>\n",
              "      <td>0</td>\n",
              "      <td>BENIGN</td>\n",
              "    </tr>\n",
              "  </tbody>\n",
              "</table>\n",
              "<p>5 rows × 79 columns</p>\n",
              "</div>"
            ],
            "text/plain": [
              "    Destination Port   Flow Duration   Total Fwd Packets  \\\n",
              "0              54865               3                   2   \n",
              "1              55054             109                   1   \n",
              "2              55055              52                   1   \n",
              "3              46236              34                   1   \n",
              "4              54863               3                   2   \n",
              "\n",
              "    Total Backward Packets  Total Length of Fwd Packets  \\\n",
              "0                        0                           12   \n",
              "1                        1                            6   \n",
              "2                        1                            6   \n",
              "3                        1                            6   \n",
              "4                        0                           12   \n",
              "\n",
              "    Total Length of Bwd Packets   Fwd Packet Length Max  \\\n",
              "0                             0                       6   \n",
              "1                             6                       6   \n",
              "2                             6                       6   \n",
              "3                             6                       6   \n",
              "4                             0                       6   \n",
              "\n",
              "    Fwd Packet Length Min   Fwd Packet Length Mean   Fwd Packet Length Std  \\\n",
              "0                       6                      6.0                     0.0   \n",
              "1                       6                      6.0                     0.0   \n",
              "2                       6                      6.0                     0.0   \n",
              "3                       6                      6.0                     0.0   \n",
              "4                       6                      6.0                     0.0   \n",
              "\n",
              "   ...   min_seg_size_forward  Active Mean   Active Std   Active Max  \\\n",
              "0  ...                     20          0.0          0.0            0   \n",
              "1  ...                     20          0.0          0.0            0   \n",
              "2  ...                     20          0.0          0.0            0   \n",
              "3  ...                     20          0.0          0.0            0   \n",
              "4  ...                     20          0.0          0.0            0   \n",
              "\n",
              "    Active Min  Idle Mean   Idle Std   Idle Max   Idle Min   Label  \n",
              "0            0        0.0        0.0          0          0  BENIGN  \n",
              "1            0        0.0        0.0          0          0  BENIGN  \n",
              "2            0        0.0        0.0          0          0  BENIGN  \n",
              "3            0        0.0        0.0          0          0  BENIGN  \n",
              "4            0        0.0        0.0          0          0  BENIGN  \n",
              "\n",
              "[5 rows x 79 columns]"
            ]
          },
          "execution_count": 24,
          "metadata": {},
          "output_type": "execute_result"
        }
      ],
      "source": [
        "import random\n",
        "import os\n",
        "from flask import jsonify\n",
        "import pandas as pd\n",
        "import numpy as np\n",
        "\n",
        "dataset_1 = pd.read_csv('Friday-WorkingHours-Afternoon-DDos.pcap_ISCX.csv')\n",
        "dataset_2 = pd.read_csv('Friday-WorkingHours-Afternoon-PortScan.pcap_ISCX.csv')\n",
        "datasets = pd.concat([dataset_1, dataset_2], axis=0)\n",
        "\n",
        "def add_noise(column, noise_level=0.1):\n",
        "    noise = np.random.normal(0, noise_level, len(column))\n",
        "    return column + noise\n",
        "\n",
        "datasets.head()"
      ]
    },
    {
      "cell_type": "code",
      "execution_count": 25,
      "metadata": {
        "id": "tqTj9upidWgi"
      },
      "outputs": [
        {
          "data": {
            "text/html": [
              "<div>\n",
              "<style scoped>\n",
              "    .dataframe tbody tr th:only-of-type {\n",
              "        vertical-align: middle;\n",
              "    }\n",
              "\n",
              "    .dataframe tbody tr th {\n",
              "        vertical-align: top;\n",
              "    }\n",
              "\n",
              "    .dataframe thead th {\n",
              "        text-align: right;\n",
              "    }\n",
              "</style>\n",
              "<table border=\"1\" class=\"dataframe\">\n",
              "  <thead>\n",
              "    <tr style=\"text-align: right;\">\n",
              "      <th></th>\n",
              "      <th>Destination Port</th>\n",
              "      <th>Flow Duration</th>\n",
              "      <th>Total Fwd Packets</th>\n",
              "      <th>Total Backward Packets</th>\n",
              "      <th>Total Length of Fwd Packets</th>\n",
              "      <th>Total Length of Bwd Packets</th>\n",
              "      <th>Fwd Packet Length Max</th>\n",
              "      <th>Fwd Packet Length Min</th>\n",
              "      <th>Fwd Packet Length Mean</th>\n",
              "      <th>Fwd Packet Length Std</th>\n",
              "      <th>...</th>\n",
              "      <th>act_data_pkt_fwd</th>\n",
              "      <th>min_seg_size_forward</th>\n",
              "      <th>Active Mean</th>\n",
              "      <th>Active Std</th>\n",
              "      <th>Active Max</th>\n",
              "      <th>Active Min</th>\n",
              "      <th>Idle Mean</th>\n",
              "      <th>Idle Std</th>\n",
              "      <th>Idle Max</th>\n",
              "      <th>Idle Min</th>\n",
              "    </tr>\n",
              "  </thead>\n",
              "  <tbody>\n",
              "    <tr>\n",
              "      <th>0</th>\n",
              "      <td>54865</td>\n",
              "      <td>3</td>\n",
              "      <td>2</td>\n",
              "      <td>0</td>\n",
              "      <td>12</td>\n",
              "      <td>0</td>\n",
              "      <td>6</td>\n",
              "      <td>6</td>\n",
              "      <td>6.000000</td>\n",
              "      <td>0.000000</td>\n",
              "      <td>...</td>\n",
              "      <td>1</td>\n",
              "      <td>20</td>\n",
              "      <td>0.0</td>\n",
              "      <td>0.0</td>\n",
              "      <td>0</td>\n",
              "      <td>0</td>\n",
              "      <td>0.0</td>\n",
              "      <td>0.0</td>\n",
              "      <td>0</td>\n",
              "      <td>0</td>\n",
              "    </tr>\n",
              "    <tr>\n",
              "      <th>1</th>\n",
              "      <td>55054</td>\n",
              "      <td>109</td>\n",
              "      <td>1</td>\n",
              "      <td>1</td>\n",
              "      <td>6</td>\n",
              "      <td>6</td>\n",
              "      <td>6</td>\n",
              "      <td>6</td>\n",
              "      <td>6.000000</td>\n",
              "      <td>0.000000</td>\n",
              "      <td>...</td>\n",
              "      <td>0</td>\n",
              "      <td>20</td>\n",
              "      <td>0.0</td>\n",
              "      <td>0.0</td>\n",
              "      <td>0</td>\n",
              "      <td>0</td>\n",
              "      <td>0.0</td>\n",
              "      <td>0.0</td>\n",
              "      <td>0</td>\n",
              "      <td>0</td>\n",
              "    </tr>\n",
              "    <tr>\n",
              "      <th>2</th>\n",
              "      <td>55055</td>\n",
              "      <td>52</td>\n",
              "      <td>1</td>\n",
              "      <td>1</td>\n",
              "      <td>6</td>\n",
              "      <td>6</td>\n",
              "      <td>6</td>\n",
              "      <td>6</td>\n",
              "      <td>6.000000</td>\n",
              "      <td>0.000000</td>\n",
              "      <td>...</td>\n",
              "      <td>0</td>\n",
              "      <td>20</td>\n",
              "      <td>0.0</td>\n",
              "      <td>0.0</td>\n",
              "      <td>0</td>\n",
              "      <td>0</td>\n",
              "      <td>0.0</td>\n",
              "      <td>0.0</td>\n",
              "      <td>0</td>\n",
              "      <td>0</td>\n",
              "    </tr>\n",
              "    <tr>\n",
              "      <th>3</th>\n",
              "      <td>46236</td>\n",
              "      <td>34</td>\n",
              "      <td>1</td>\n",
              "      <td>1</td>\n",
              "      <td>6</td>\n",
              "      <td>6</td>\n",
              "      <td>6</td>\n",
              "      <td>6</td>\n",
              "      <td>6.000000</td>\n",
              "      <td>0.000000</td>\n",
              "      <td>...</td>\n",
              "      <td>0</td>\n",
              "      <td>20</td>\n",
              "      <td>0.0</td>\n",
              "      <td>0.0</td>\n",
              "      <td>0</td>\n",
              "      <td>0</td>\n",
              "      <td>0.0</td>\n",
              "      <td>0.0</td>\n",
              "      <td>0</td>\n",
              "      <td>0</td>\n",
              "    </tr>\n",
              "    <tr>\n",
              "      <th>4</th>\n",
              "      <td>54863</td>\n",
              "      <td>3</td>\n",
              "      <td>2</td>\n",
              "      <td>0</td>\n",
              "      <td>12</td>\n",
              "      <td>0</td>\n",
              "      <td>6</td>\n",
              "      <td>6</td>\n",
              "      <td>6.000000</td>\n",
              "      <td>0.000000</td>\n",
              "      <td>...</td>\n",
              "      <td>1</td>\n",
              "      <td>20</td>\n",
              "      <td>0.0</td>\n",
              "      <td>0.0</td>\n",
              "      <td>0</td>\n",
              "      <td>0</td>\n",
              "      <td>0.0</td>\n",
              "      <td>0.0</td>\n",
              "      <td>0</td>\n",
              "      <td>0</td>\n",
              "    </tr>\n",
              "    <tr>\n",
              "      <th>...</th>\n",
              "      <td>...</td>\n",
              "      <td>...</td>\n",
              "      <td>...</td>\n",
              "      <td>...</td>\n",
              "      <td>...</td>\n",
              "      <td>...</td>\n",
              "      <td>...</td>\n",
              "      <td>...</td>\n",
              "      <td>...</td>\n",
              "      <td>...</td>\n",
              "      <td>...</td>\n",
              "      <td>...</td>\n",
              "      <td>...</td>\n",
              "      <td>...</td>\n",
              "      <td>...</td>\n",
              "      <td>...</td>\n",
              "      <td>...</td>\n",
              "      <td>...</td>\n",
              "      <td>...</td>\n",
              "      <td>...</td>\n",
              "      <td>...</td>\n",
              "    </tr>\n",
              "    <tr>\n",
              "      <th>286462</th>\n",
              "      <td>443</td>\n",
              "      <td>196135</td>\n",
              "      <td>49</td>\n",
              "      <td>57</td>\n",
              "      <td>1331</td>\n",
              "      <td>105841</td>\n",
              "      <td>570</td>\n",
              "      <td>0</td>\n",
              "      <td>27.163265</td>\n",
              "      <td>108.067176</td>\n",
              "      <td>...</td>\n",
              "      <td>31</td>\n",
              "      <td>20</td>\n",
              "      <td>0.0</td>\n",
              "      <td>0.0</td>\n",
              "      <td>0</td>\n",
              "      <td>0</td>\n",
              "      <td>0.0</td>\n",
              "      <td>0.0</td>\n",
              "      <td>0</td>\n",
              "      <td>0</td>\n",
              "    </tr>\n",
              "    <tr>\n",
              "      <th>286463</th>\n",
              "      <td>443</td>\n",
              "      <td>378424</td>\n",
              "      <td>49</td>\n",
              "      <td>59</td>\n",
              "      <td>1325</td>\n",
              "      <td>104393</td>\n",
              "      <td>570</td>\n",
              "      <td>0</td>\n",
              "      <td>27.040816</td>\n",
              "      <td>108.095051</td>\n",
              "      <td>...</td>\n",
              "      <td>30</td>\n",
              "      <td>20</td>\n",
              "      <td>0.0</td>\n",
              "      <td>0.0</td>\n",
              "      <td>0</td>\n",
              "      <td>0</td>\n",
              "      <td>0.0</td>\n",
              "      <td>0.0</td>\n",
              "      <td>0</td>\n",
              "      <td>0</td>\n",
              "    </tr>\n",
              "    <tr>\n",
              "      <th>286464</th>\n",
              "      <td>443</td>\n",
              "      <td>161800</td>\n",
              "      <td>70</td>\n",
              "      <td>103</td>\n",
              "      <td>1427</td>\n",
              "      <td>215903</td>\n",
              "      <td>570</td>\n",
              "      <td>0</td>\n",
              "      <td>20.385714</td>\n",
              "      <td>90.746389</td>\n",
              "      <td>...</td>\n",
              "      <td>47</td>\n",
              "      <td>20</td>\n",
              "      <td>0.0</td>\n",
              "      <td>0.0</td>\n",
              "      <td>0</td>\n",
              "      <td>0</td>\n",
              "      <td>0.0</td>\n",
              "      <td>0.0</td>\n",
              "      <td>0</td>\n",
              "      <td>0</td>\n",
              "    </tr>\n",
              "    <tr>\n",
              "      <th>286465</th>\n",
              "      <td>443</td>\n",
              "      <td>142864</td>\n",
              "      <td>50</td>\n",
              "      <td>62</td>\n",
              "      <td>1331</td>\n",
              "      <td>110185</td>\n",
              "      <td>570</td>\n",
              "      <td>0</td>\n",
              "      <td>26.620000</td>\n",
              "      <td>107.027727</td>\n",
              "      <td>...</td>\n",
              "      <td>31</td>\n",
              "      <td>20</td>\n",
              "      <td>0.0</td>\n",
              "      <td>0.0</td>\n",
              "      <td>0</td>\n",
              "      <td>0</td>\n",
              "      <td>0.0</td>\n",
              "      <td>0.0</td>\n",
              "      <td>0</td>\n",
              "      <td>0</td>\n",
              "    </tr>\n",
              "    <tr>\n",
              "      <th>286466</th>\n",
              "      <td>443</td>\n",
              "      <td>186928</td>\n",
              "      <td>46</td>\n",
              "      <td>57</td>\n",
              "      <td>1319</td>\n",
              "      <td>100049</td>\n",
              "      <td>570</td>\n",
              "      <td>0</td>\n",
              "      <td>28.673913</td>\n",
              "      <td>111.438085</td>\n",
              "      <td>...</td>\n",
              "      <td>29</td>\n",
              "      <td>20</td>\n",
              "      <td>0.0</td>\n",
              "      <td>0.0</td>\n",
              "      <td>0</td>\n",
              "      <td>0</td>\n",
              "      <td>0.0</td>\n",
              "      <td>0.0</td>\n",
              "      <td>0</td>\n",
              "      <td>0</td>\n",
              "    </tr>\n",
              "  </tbody>\n",
              "</table>\n",
              "<p>435336 rows × 78 columns</p>\n",
              "</div>"
            ],
            "text/plain": [
              "         Destination Port   Flow Duration   Total Fwd Packets  \\\n",
              "0                   54865               3                   2   \n",
              "1                   55054             109                   1   \n",
              "2                   55055              52                   1   \n",
              "3                   46236              34                   1   \n",
              "4                   54863               3                   2   \n",
              "...                   ...             ...                 ...   \n",
              "286462                443          196135                  49   \n",
              "286463                443          378424                  49   \n",
              "286464                443          161800                  70   \n",
              "286465                443          142864                  50   \n",
              "286466                443          186928                  46   \n",
              "\n",
              "         Total Backward Packets  Total Length of Fwd Packets  \\\n",
              "0                             0                           12   \n",
              "1                             1                            6   \n",
              "2                             1                            6   \n",
              "3                             1                            6   \n",
              "4                             0                           12   \n",
              "...                         ...                          ...   \n",
              "286462                       57                         1331   \n",
              "286463                       59                         1325   \n",
              "286464                      103                         1427   \n",
              "286465                       62                         1331   \n",
              "286466                       57                         1319   \n",
              "\n",
              "         Total Length of Bwd Packets   Fwd Packet Length Max  \\\n",
              "0                                  0                       6   \n",
              "1                                  6                       6   \n",
              "2                                  6                       6   \n",
              "3                                  6                       6   \n",
              "4                                  0                       6   \n",
              "...                              ...                     ...   \n",
              "286462                        105841                     570   \n",
              "286463                        104393                     570   \n",
              "286464                        215903                     570   \n",
              "286465                        110185                     570   \n",
              "286466                        100049                     570   \n",
              "\n",
              "         Fwd Packet Length Min   Fwd Packet Length Mean  \\\n",
              "0                            6                 6.000000   \n",
              "1                            6                 6.000000   \n",
              "2                            6                 6.000000   \n",
              "3                            6                 6.000000   \n",
              "4                            6                 6.000000   \n",
              "...                        ...                      ...   \n",
              "286462                       0                27.163265   \n",
              "286463                       0                27.040816   \n",
              "286464                       0                20.385714   \n",
              "286465                       0                26.620000   \n",
              "286466                       0                28.673913   \n",
              "\n",
              "         Fwd Packet Length Std  ...   act_data_pkt_fwd   min_seg_size_forward  \\\n",
              "0                     0.000000  ...                  1                     20   \n",
              "1                     0.000000  ...                  0                     20   \n",
              "2                     0.000000  ...                  0                     20   \n",
              "3                     0.000000  ...                  0                     20   \n",
              "4                     0.000000  ...                  1                     20   \n",
              "...                        ...  ...                ...                    ...   \n",
              "286462              108.067176  ...                 31                     20   \n",
              "286463              108.095051  ...                 30                     20   \n",
              "286464               90.746389  ...                 47                     20   \n",
              "286465              107.027727  ...                 31                     20   \n",
              "286466              111.438085  ...                 29                     20   \n",
              "\n",
              "        Active Mean   Active Std   Active Max   Active Min  Idle Mean  \\\n",
              "0               0.0          0.0            0            0        0.0   \n",
              "1               0.0          0.0            0            0        0.0   \n",
              "2               0.0          0.0            0            0        0.0   \n",
              "3               0.0          0.0            0            0        0.0   \n",
              "4               0.0          0.0            0            0        0.0   \n",
              "...             ...          ...          ...          ...        ...   \n",
              "286462          0.0          0.0            0            0        0.0   \n",
              "286463          0.0          0.0            0            0        0.0   \n",
              "286464          0.0          0.0            0            0        0.0   \n",
              "286465          0.0          0.0            0            0        0.0   \n",
              "286466          0.0          0.0            0            0        0.0   \n",
              "\n",
              "         Idle Std   Idle Max   Idle Min  \n",
              "0             0.0          0          0  \n",
              "1             0.0          0          0  \n",
              "2             0.0          0          0  \n",
              "3             0.0          0          0  \n",
              "4             0.0          0          0  \n",
              "...           ...        ...        ...  \n",
              "286462        0.0          0          0  \n",
              "286463        0.0          0          0  \n",
              "286464        0.0          0          0  \n",
              "286465        0.0          0          0  \n",
              "286466        0.0          0          0  \n",
              "\n",
              "[435336 rows x 78 columns]"
            ]
          },
          "execution_count": 25,
          "metadata": {},
          "output_type": "execute_result"
        }
      ],
      "source": [
        "numeric_columns = datasets.select_dtypes(include=[np.number])\n",
        "numeric_columns = numeric_columns.drop_duplicates()\n",
        "numeric_columns = numeric_columns.dropna()\n",
        "numeric_columns = numeric_columns[~np.isinf(numeric_columns).any(axis=1)]\n",
        "numeric_columns"
      ]
    },
    {
      "cell_type": "code",
      "execution_count": 26,
      "metadata": {
        "id": "xmNSUAwydWgi"
      },
      "outputs": [
        {
          "data": {
            "text/plain": [
              "array([[8.37224562e-01, 1.33333376e-07, 3.20718409e-04, ...,\n",
              "        0.00000000e+00, 0.00000000e+00, 0.00000000e+00],\n",
              "       [8.40108649e-01, 1.01666699e-06, 0.00000000e+00, ...,\n",
              "        0.00000000e+00, 0.00000000e+00, 0.00000000e+00],\n",
              "       [8.40123909e-01, 5.41666838e-07, 0.00000000e+00, ...,\n",
              "        0.00000000e+00, 0.00000000e+00, 0.00000000e+00],\n",
              "       ...,\n",
              "       [6.76005616e-03, 1.34844209e-03, 2.21295702e-02, ...,\n",
              "        0.00000000e+00, 0.00000000e+00, 0.00000000e+00],\n",
              "       [6.76005616e-03, 1.19064204e-03, 1.57152021e-02, ...,\n",
              "        0.00000000e+00, 0.00000000e+00, 0.00000000e+00],\n",
              "       [6.76005616e-03, 1.55784216e-03, 1.44323284e-02, ...,\n",
              "        0.00000000e+00, 0.00000000e+00, 0.00000000e+00]])"
            ]
          },
          "execution_count": 26,
          "metadata": {},
          "output_type": "execute_result"
        }
      ],
      "source": [
        "from sklearn.preprocessing import MinMaxScaler\n",
        "scaler = MinMaxScaler()\n",
        "scaler.fit_transform(numeric_columns)"
      ]
    },
    {
      "cell_type": "code",
      "execution_count": 27,
      "metadata": {
        "id": "aOjBDao-dWgi"
      },
      "outputs": [],
      "source": [
        "#noised_columns = numeric_columns.apply(add_noise, noise_level=1)\n",
        "#noised_columns.shape"
      ]
    },
    {
      "cell_type": "markdown",
      "metadata": {},
      "source": [
        "### **CNN Load and Use the Model**\n",
        "this section covers what happens in the backend. We load the model and give predictions after scaling the input data and reshaping it to fit the CNN architecture we built."
      ]
    },
    {
      "cell_type": "code",
      "execution_count": 29,
      "metadata": {
        "id": "vxhquUtPdWgj"
      },
      "outputs": [],
      "source": [
        "from tensorflow import lite\n",
        "\n",
        "interpreter = lite.Interpreter(model_path='cnn_model.tflite')\n",
        "interpreter.allocate_tensors()\n",
        "\n",
        "input_details = interpreter.get_input_details()\n",
        "output_details = interpreter.get_output_details()"
      ]
    },
    {
      "cell_type": "markdown",
      "metadata": {},
      "source": [
        "Here we are retrieving a random row from our dataset, then we transform it using the scaler and reshape it to fit the CNN architecture."
      ]
    },
    {
      "cell_type": "code",
      "execution_count": 28,
      "metadata": {
        "id": "-4dogDs0dWgi"
      },
      "outputs": [
        {
          "name": "stderr",
          "output_type": "stream",
          "text": [
            "c:\\Python311\\Lib\\site-packages\\sklearn\\base.py:439: UserWarning: X does not have valid feature names, but MinMaxScaler was fitted with feature names\n",
            "  warnings.warn(\n"
          ]
        },
        {
          "data": {
            "text/plain": [
              "(1, 2, 39, 1)"
            ]
          },
          "execution_count": 28,
          "metadata": {},
          "output_type": "execute_result"
        }
      ],
      "source": [
        "new_row = numeric_columns.iloc[random.randint(0, len(numeric_columns)-1)]\n",
        "new_row = new_row.values.reshape(1, -1)\n",
        "new_rowScaled = scaler.transform(new_row)\n",
        "new_rowScaled = new_rowScaled.reshape((1, 2, 39, 1))\n",
        "new_rowScaled.shape"
      ]
    },
    {
      "cell_type": "code",
      "execution_count": 30,
      "metadata": {
        "id": "784YW_jUdWgj"
      },
      "outputs": [
        {
          "data": {
            "text/plain": [
              "array([[2.3766226e-08, 6.1081979e-14, 1.0000000e+00]], dtype=float32)"
            ]
          },
          "execution_count": 30,
          "metadata": {},
          "output_type": "execute_result"
        }
      ],
      "source": [
        "input_data = new_rowScaled.astype(np.float32)\n",
        "#input_data = X_test[0].astype(np.float32)\n",
        "interpreter.set_tensor(input_details[0]['index'], input_data)\n",
        "\n",
        "interpreter.invoke()\n",
        "\n",
        "output_data = interpreter.get_tensor(output_details[0]['index'])\n",
        "\n",
        "output_data"
      ]
    },
    {
      "cell_type": "code",
      "execution_count": 31,
      "metadata": {
        "id": "hKdo5LbGdWgj"
      },
      "outputs": [
        {
          "name": "stdout",
          "output_type": "stream",
          "text": [
            "Predicted Class Index: 2\n",
            "Predicted Class: DDoS\n"
          ]
        }
      ],
      "source": [
        "predicted_class = np.argmax(output_data)\n",
        "\n",
        "print(\"Predicted Class Index:\", predicted_class)\n",
        "predictions = ['BENIGN', 'PortScan', 'DDoS']\n",
        "print(\"Predicted Class:\", predictions[predicted_class])"
      ]
    }
  ],
  "metadata": {
    "colab": {
      "provenance": []
    },
    "kernelspec": {
      "display_name": "Python 3.11.0 64-bit",
      "language": "python",
      "name": "python3"
    },
    "language_info": {
      "codemirror_mode": {
        "name": "ipython",
        "version": 3
      },
      "file_extension": ".py",
      "mimetype": "text/x-python",
      "name": "python",
      "nbconvert_exporter": "python",
      "pygments_lexer": "ipython3",
      "version": "3.11.0"
    },
    "vscode": {
      "interpreter": {
        "hash": "c261aea317cc0286b3b3261fbba9abdec21eaa57589985bb7a274bf54d6cc0a7"
      }
    }
  },
  "nbformat": 4,
  "nbformat_minor": 0
}
